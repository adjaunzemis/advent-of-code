{
 "cells": [
  {
   "attachments": {},
   "cell_type": "markdown",
   "metadata": {},
   "source": [
    "### Day 9, Part 1"
   ]
  },
  {
   "cell_type": "code",
   "execution_count": 33,
   "metadata": {},
   "outputs": [
    {
     "name": "stdout",
     "output_type": "stream",
     "text": [
      "Unique tail positions: 6044\n"
     ]
    }
   ],
   "source": [
    "import numpy as np\n",
    "\n",
    "# ROPE_HEAD_MOVES_FILE = \"day9_example.txt\"\n",
    "ROPE_HEAD_MOVES_FILE = \"day9_input1.txt\"\n",
    "\n",
    "with open(ROPE_HEAD_MOVES_FILE, \"r\") as f:\n",
    "    head_moves = [line.strip() for line in f.readlines()]\n",
    "\n",
    "START_POSITION = np.array([0, 0])\n",
    "head_positions = np.array([START_POSITION])\n",
    "tail_positions = np.array([START_POSITION])\n",
    "for head_move in head_moves:\n",
    "    head_move_count = int(head_move.split(\" \")[1])\n",
    "\n",
    "    head_move_direction_text = head_move.split(\" \")[0]\n",
    "    if head_move_direction_text == \"U\":\n",
    "        head_move_direction = np.array([[0, 1]])\n",
    "    elif head_move_direction_text == \"D\":\n",
    "        head_move_direction = np.array([[0, -1]])\n",
    "    elif head_move_direction_text == \"L\":\n",
    "        head_move_direction = np.array([[-1, 0]])\n",
    "    elif head_move_direction_text == \"R\":\n",
    "        head_move_direction = np.array([[1, 0]])\n",
    "\n",
    "    for move_idx in range(head_move_count):\n",
    "        next_head_position = head_positions[-1,:] + head_move_direction\n",
    "        \n",
    "        cur_tail_position = tail_positions[-1,:]\n",
    "        tail_move_direction = np.zeros((1, 2))\n",
    "        if np.any(np.abs(next_head_position - cur_tail_position) > 1):\n",
    "            tail_move_direction[0,0] = np.sign(next_head_position[0,0] - cur_tail_position[0])\n",
    "            tail_move_direction[0,1] = np.sign(next_head_position[0,1] - cur_tail_position[1])\n",
    "        next_tail_position = cur_tail_position + tail_move_direction\n",
    "\n",
    "        head_positions = np.append(head_positions, next_head_position, 0)\n",
    "        tail_positions = np.append(tail_positions, next_tail_position, 0)\n",
    "\n",
    "\n",
    "def draw_motion_grid(head, tail):\n",
    "    grid_dimensions = (np.max(head[:,0]) + 1, np.max(head[:,1]) + 1)\n",
    "\n",
    "    for move_idx in range(head.shape[0]):\n",
    "        grid_str = f\"--- MOVE {move_idx} ---\"\n",
    "        for row_idx in range(grid_dimensions[1] - 1, -1, -1):\n",
    "            grid_str += \"\\n\"\n",
    "            row_list = []\n",
    "            for col_idx in range(grid_dimensions[0]):\n",
    "                if np.all(head[move_idx,:] == np.array([[col_idx, row_idx]])):\n",
    "                    row_list.append(\"H\")\n",
    "                elif np.all(tail[move_idx,:] == np.array([[col_idx, row_idx]])):\n",
    "                    row_list.append(\"T\")\n",
    "                else:\n",
    "                    row_list.append(\".\")\n",
    "            grid_str += \"\".join(row_list)\n",
    "        print(grid_str)\n",
    "\n",
    "# draw_motion_grid(head_positions, tail_positions)\n",
    "\n",
    "unique_tail_positions = np.unique(tail_positions, axis=0)\n",
    "print(f\"Unique tail positions: {len(unique_tail_positions)}\")"
   ]
  },
  {
   "attachments": {},
   "cell_type": "markdown",
   "metadata": {},
   "source": [
    "### Day 9, Part 2"
   ]
  },
  {
   "cell_type": "code",
   "execution_count": 34,
   "metadata": {},
   "outputs": [
    {
     "name": "stdout",
     "output_type": "stream",
     "text": [
      "Unique tail positions: 2384\n"
     ]
    }
   ],
   "source": [
    "NUM_KNOTS = 10\n",
    "knot_positions = np.zeros((NUM_KNOTS, 1, 2))\n",
    "for head_move in head_moves:\n",
    "    head_move_count = int(head_move.split(\" \")[1])\n",
    "\n",
    "    head_move_direction_text = head_move.split(\" \")[0]\n",
    "    if head_move_direction_text == \"U\":\n",
    "        head_move_direction = np.array([[0, 1]])\n",
    "    elif head_move_direction_text == \"D\":\n",
    "        head_move_direction = np.array([[0, -1]])\n",
    "    elif head_move_direction_text == \"L\":\n",
    "        head_move_direction = np.array([[-1, 0]])\n",
    "    elif head_move_direction_text == \"R\":\n",
    "        head_move_direction = np.array([[1, 0]])\n",
    "\n",
    "    for move_idx in range(head_move_count):\n",
    "        next_knot_positions = np.zeros((NUM_KNOTS, 1, 2))\n",
    "\n",
    "        next_knot_positions[0, 0, :] = knot_positions[0, -1, :] + head_move_direction\n",
    "\n",
    "        for knot_idx in range(1, NUM_KNOTS):\n",
    "            knot_move_direction = np.zeros((1, 1, 2))\n",
    "            if np.any(np.abs(next_knot_positions[knot_idx - 1, 0, :] - knot_positions[knot_idx, -1, :]) > 1):\n",
    "                knot_move_direction[0, 0, 0] = np.sign(next_knot_positions[knot_idx - 1, 0, 0] - knot_positions[knot_idx, -1, 0])\n",
    "                knot_move_direction[0, 0, 1] = np.sign(next_knot_positions[knot_idx - 1, 0, 1] - knot_positions[knot_idx, -1, 1])\n",
    "            next_knot_positions[knot_idx, 0, :] = knot_positions[knot_idx, -1, :] + knot_move_direction\n",
    "\n",
    "        knot_positions = np.append(knot_positions, next_knot_positions, 1)\n",
    "\n",
    "def draw_motion_grid_multi_knot(positions):\n",
    "    grid_dimensions = (int(np.max(positions[:, :, 0])) + 1, int(np.max(positions[:, :, 1])) + 1)\n",
    "\n",
    "    for move_idx in range(knot_positions.shape[1]):\n",
    "        grid_str = f\"--- MOVE {move_idx} ---\"\n",
    "        for row_idx in range(grid_dimensions[1] - 1, -1, -1):\n",
    "            grid_str += \"\\n\"\n",
    "            row_list = []\n",
    "            for col_idx in range(grid_dimensions[0]):\n",
    "                knot_placed = False\n",
    "                for knot_idx in range(NUM_KNOTS):\n",
    "                    if not knot_placed and np.all(knot_positions[knot_idx, move_idx, :] == np.array([[col_idx, row_idx]])):\n",
    "                        row_list.append(str(knot_idx))\n",
    "                        knot_placed = True\n",
    "                if not knot_placed:\n",
    "                    row_list.append(\".\")\n",
    "            grid_str += \"\".join(row_list)\n",
    "        print(grid_str)\n",
    "\n",
    "# draw_motion_grid_multi_knot(knot_positions)\n",
    "\n",
    "unique_tail_positions = np.unique(knot_positions[-1,:,:], axis=0)\n",
    "print(f\"Unique tail positions: {len(unique_tail_positions)}\")"
   ]
  }
 ],
 "metadata": {
  "kernelspec": {
   "display_name": ".venv",
   "language": "python",
   "name": "python3"
  },
  "language_info": {
   "codemirror_mode": {
    "name": "ipython",
    "version": 3
   },
   "file_extension": ".py",
   "mimetype": "text/x-python",
   "name": "python",
   "nbconvert_exporter": "python",
   "pygments_lexer": "ipython3",
   "version": "3.10.8"
  },
  "orig_nbformat": 4,
  "vscode": {
   "interpreter": {
    "hash": "39fe521330e4437617b68159e1f8b7c16e99f832da8fbed7e2e885f86f5313d2"
   }
  }
 },
 "nbformat": 4,
 "nbformat_minor": 2
}
