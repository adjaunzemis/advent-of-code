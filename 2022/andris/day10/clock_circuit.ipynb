{
 "cells": [
  {
   "attachments": {},
   "cell_type": "markdown",
   "metadata": {},
   "source": [
    "### Day 10, Part 1"
   ]
  },
  {
   "cell_type": "code",
   "execution_count": 23,
   "metadata": {},
   "outputs": [
    {
     "name": "stdout",
     "output_type": "stream",
     "text": [
      "Signal strength sum: 15680\n"
     ]
    }
   ],
   "source": [
    "# PROGRAM_FILE = \"day10_example.txt\"\n",
    "PROGRAM_FILE = \"day10_input1.txt\"\n",
    "\n",
    "with open(PROGRAM_FILE, \"r\") as f:\n",
    "    program_lines = [line.strip() for line in f.readlines()]\n",
    "\n",
    "def compute_signal_strength(commands, cycle_stop, register_init = 1) -> int:\n",
    "    register_val = register_init\n",
    "    cycle_num = 1\n",
    "    command_idx = 0\n",
    "    while cycle_num < cycle_stop:\n",
    "        command_parts = commands[command_idx].split()\n",
    "        if len(command_parts) == 1: # noop\n",
    "            cycle_num += 1\n",
    "        else: # addx X\n",
    "            if cycle_num < cycle_stop - 1:\n",
    "                cycle_num += 2\n",
    "                register_val += int(command_parts[1])\n",
    "        command_idx += 1\n",
    "    return register_val * cycle_num\n",
    "\n",
    "signal_strength_sum = sum([compute_signal_strength(program_lines, cycle) for cycle in [20, 60, 100, 140, 180, 220]])\n",
    "print(f\"Signal strength sum: {signal_strength_sum}\")"
   ]
  },
  {
   "attachments": {},
   "cell_type": "markdown",
   "metadata": {},
   "source": [
    "### Day 10, Part 2"
   ]
  },
  {
   "cell_type": "code",
   "execution_count": 24,
   "metadata": {},
   "outputs": [
    {
     "name": "stdout",
     "output_type": "stream",
     "text": [
      "\n",
      "####.####.###..####.#..#..##..#..#.###..\n",
      "...#.#....#..#.#....#..#.#..#.#..#.#..#.\n",
      "..#..###..###..###..####.#....#..#.#..#.\n",
      ".#...#....#..#.#....#..#.#.##.#..#.###..\n",
      "#....#....#..#.#....#..#.#..#.#..#.#....\n",
      "####.#....###..#....#..#..###..##..#....\n",
      ".\n"
     ]
    }
   ],
   "source": [
    "SCREEN_WIDTH = 40\n",
    "\n",
    "register_history = [1]\n",
    "for command in program_lines:\n",
    "    command_parts = command.split()\n",
    "    if len(command_parts) == 1: # noop\n",
    "        register_history.append(register_history[-1])\n",
    "    else:\n",
    "        register_history.append(register_history[-1])\n",
    "        register_history.append(register_history[-1] + int(command_parts[1]))\n",
    "\n",
    "display_str = \"\"\n",
    "for cycle_idx in range(len(register_history)):\n",
    "    cursor_pos = cycle_idx % SCREEN_WIDTH\n",
    "    if cursor_pos == 0:\n",
    "        display_str += \"\\n\"\n",
    "    if abs(register_history[cycle_idx] - cursor_pos) <= 1:\n",
    "        display_str += \"#\"\n",
    "    else:\n",
    "        display_str += \".\"\n",
    "print(display_str)"
   ]
  }
 ],
 "metadata": {
  "kernelspec": {
   "display_name": ".venv",
   "language": "python",
   "name": "python3"
  },
  "language_info": {
   "codemirror_mode": {
    "name": "ipython",
    "version": 3
   },
   "file_extension": ".py",
   "mimetype": "text/x-python",
   "name": "python",
   "nbconvert_exporter": "python",
   "pygments_lexer": "ipython3",
   "version": "3.10.8"
  },
  "orig_nbformat": 4,
  "vscode": {
   "interpreter": {
    "hash": "7759c4f07c777038d1cca4df27b4e3676cf153f60ec723e99797dd9d63e75207"
   }
  }
 },
 "nbformat": 4,
 "nbformat_minor": 2
}
