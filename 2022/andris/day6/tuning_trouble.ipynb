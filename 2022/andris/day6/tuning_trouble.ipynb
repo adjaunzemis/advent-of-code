{
 "cells": [
  {
   "cell_type": "markdown",
   "metadata": {},
   "source": [
    "### Day 6, Part 1"
   ]
  },
  {
   "cell_type": "code",
   "execution_count": 4,
   "metadata": {},
   "outputs": [
    {
     "name": "stdout",
     "output_type": "stream",
     "text": [
      "Found marker `vwbj` at index: 5\n",
      "Found marker `zqfr` at index: 11\n",
      "Found marker `gpfj` at index: 1896\n"
     ]
    }
   ],
   "source": [
    "DATASTREAM_FILE = \"day6_input1.txt\"\n",
    "\n",
    "with open(DATASTREAM_FILE, \"r\") as f:\n",
    "    datastream = f.readline().strip()\n",
    "\n",
    "def find_start_of_packet_marker(data: str, marker_length: int):\n",
    "    for data_idx in range(marker_length, len(data)):\n",
    "        data_subset = data[(data_idx-marker_length):data_idx]\n",
    "        marker_found = True\n",
    "        for sub_idx in range(marker_length):\n",
    "            if len([s for s in data_subset if s == data_subset[sub_idx]]) > 1:\n",
    "                marker_found = False\n",
    "                break\n",
    "        if marker_found:\n",
    "            print(f\"Found marker `{data_subset}` at index: {data_idx}\")\n",
    "            break\n",
    "\n",
    "find_start_of_packet_marker(data=\"bvwbjplbgvbhsrlpgdmjqwftvncz\", marker_length=4) # 5\n",
    "find_start_of_packet_marker(data=\"zcfzfwzzqfrljwzlrfnpqdbhtmscgvjw\", marker_length=4) # 11\n",
    "find_start_of_packet_marker(data=datastream, marker_length=4)\n",
    "\n",
    "\n",
    "find_start_of_packet_marker(data=datastream, marker_length=14)"
   ]
  }
 ],
 "metadata": {
  "kernelspec": {
   "display_name": "Python 3.10.8 ('.venv': venv)",
   "language": "python",
   "name": "python3"
  },
  "language_info": {
   "codemirror_mode": {
    "name": "ipython",
    "version": 3
   },
   "file_extension": ".py",
   "mimetype": "text/x-python",
   "name": "python",
   "nbconvert_exporter": "python",
   "pygments_lexer": "ipython3",
   "version": "3.10.8"
  },
  "orig_nbformat": 4,
  "vscode": {
   "interpreter": {
    "hash": "7759c4f07c777038d1cca4df27b4e3676cf153f60ec723e99797dd9d63e75207"
   }
  }
 },
 "nbformat": 4,
 "nbformat_minor": 2
}
