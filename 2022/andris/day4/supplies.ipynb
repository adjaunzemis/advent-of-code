{
 "cells": [
  {
   "cell_type": "code",
   "execution_count": 9,
   "metadata": {},
   "outputs": [
    {
     "name": "stdout",
     "output_type": "stream",
     "text": [
      "Full overlaps: 490\n",
      "Partial overlaps: 921\n"
     ]
    }
   ],
   "source": [
    "ASSIGNMENTS_FILE = \"day4_input1.txt\"\n",
    "\n",
    "with open(ASSIGNMENTS_FILE, \"r\") as f:\n",
    "    assignment_pairs = [line.strip() for line in f.readlines()]\n",
    "\n",
    "full_overlap_count = 0\n",
    "for assignment_pair in assignment_pairs:\n",
    "    (assignment_1, assignment_2) = assignment_pair.split(\",\")\n",
    "    assignment_1_min = int(assignment_1.split(\"-\")[0])\n",
    "    assignment_1_max = int(assignment_1.split(\"-\")[1])\n",
    "    assignment_2_min = int(assignment_2.split(\"-\")[0])\n",
    "    assignment_2_max = int(assignment_2.split(\"-\")[1])\n",
    "\n",
    "    if (assignment_1_min >= assignment_2_min and assignment_1_max <= assignment_2_max) or (assignment_2_min >= assignment_1_min and assignment_2_max <= assignment_1_max):\n",
    "        full_overlap_count += 1\n",
    "print(f\"Full overlaps: {full_overlap_count}\")\n",
    "\n",
    "partial_overlap_count = 0\n",
    "for assignment_pair in assignment_pairs:\n",
    "    (assignment_1, assignment_2) = assignment_pair.split(\",\")\n",
    "    assignment_1_min = int(assignment_1.split(\"-\")[0])\n",
    "    assignment_1_max = int(assignment_1.split(\"-\")[1])\n",
    "    assignment_2_min = int(assignment_2.split(\"-\")[0])\n",
    "    assignment_2_max = int(assignment_2.split(\"-\")[1])\n",
    "\n",
    "    if ((assignment_1_min >= assignment_2_min and assignment_1_min <= assignment_2_max) \n",
    "            or (assignment_1_max >= assignment_2_min and assignment_1_max <= assignment_2_max)\n",
    "            or (assignment_2_min >= assignment_1_min and assignment_2_min <= assignment_1_max) \n",
    "            or (assignment_2_max >= assignment_1_min and assignment_2_max <= assignment_1_max)):\n",
    "        partial_overlap_count += 1\n",
    "print(f\"Partial overlaps: {partial_overlap_count}\")"
   ]
  }
 ],
 "metadata": {
  "kernelspec": {
   "display_name": "Python 3.10.8 ('.venv': venv)",
   "language": "python",
   "name": "python3"
  },
  "language_info": {
   "codemirror_mode": {
    "name": "ipython",
    "version": 3
   },
   "file_extension": ".py",
   "mimetype": "text/x-python",
   "name": "python",
   "nbconvert_exporter": "python",
   "pygments_lexer": "ipython3",
   "version": "3.10.8"
  },
  "orig_nbformat": 4,
  "vscode": {
   "interpreter": {
    "hash": "7759c4f07c777038d1cca4df27b4e3676cf153f60ec723e99797dd9d63e75207"
   }
  }
 },
 "nbformat": 4,
 "nbformat_minor": 2
}
