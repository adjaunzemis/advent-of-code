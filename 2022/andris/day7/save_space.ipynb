{
 "cells": [
  {
   "cell_type": "code",
   "execution_count": 42,
   "metadata": {},
   "outputs": [
    {
     "name": "stdout",
     "output_type": "stream",
     "text": [
      "Total size of filesystem: 43837783\n",
      "Total recursive file size (with max=100000): 1454188\n"
     ]
    }
   ],
   "source": [
    "import dataclasses\n",
    "from typing import Dict, List, Optional\n",
    "\n",
    "# TERMINAL_FILE = \"day7_example.txt\"\n",
    "TERMINAL_FILE = \"day7_input1.txt\"\n",
    "\n",
    "@dataclasses.dataclass\n",
    "class DeviceFile():\n",
    "    name: str\n",
    "    size: int\n",
    "    \n",
    "@dataclasses.dataclass\n",
    "class DeviceDirectory():\n",
    "    name: str\n",
    "    parent: Optional['DeviceDirectory'] = None\n",
    "    children: Dict[str, 'DeviceDirectory'] = dataclasses.field(default_factory=dict) \n",
    "    files: List[DeviceFile] = dataclasses.field(default_factory=list)\n",
    "\n",
    "    @property\n",
    "    def pwd(self):\n",
    "        if self.parent is None:\n",
    "            return \"/\"\n",
    "        return self.parent.pwd + self.name + \"/\"\n",
    "\n",
    "    @property\n",
    "    def size(self):\n",
    "        file_size = sum([f.size for f in self.files])\n",
    "        dir_size = sum([self.children[d].size for d in self.children.keys()])\n",
    "        return file_size + dir_size\n",
    "\n",
    "with open(TERMINAL_FILE, \"r\") as f:\n",
    "    terminal_lines = [line.strip() for line in f.readlines()]\n",
    "\n",
    "root_dir = DeviceDirectory(name=\"/\")\n",
    "cur_dir: Optional[DeviceDirectory] = None\n",
    "cur_command = None\n",
    "\n",
    "for line in terminal_lines:\n",
    "    line_parts = line.split(\" \")\n",
    "    if line_parts[0] == \"$\": # executed command\n",
    "        cur_command = line_parts[1]\n",
    "        if cur_command == \"cd\": # change directory\n",
    "            if line_parts[2] == \"/\": # root directory\n",
    "                cur_dir = root_dir\n",
    "            elif line_parts[2] == \"..\": # parent directory\n",
    "                cur_dir = cur_dir.parent\n",
    "            else: # subdirectory\n",
    "                cur_dir = cur_dir.children[line_parts[2]]\n",
    "        elif cur_command == \"ls\": # list\n",
    "            continue # no action needed, parse next lines for contents\n",
    "    else: # command result\n",
    "        if line_parts[0] == \"dir\": # directory\n",
    "            cur_dir.children[line_parts[1]] = DeviceDirectory(name=line_parts[1], parent=cur_dir)\n",
    "        else: # file\n",
    "            cur_dir.files.append(DeviceFile(name=line_parts[1], size=int(line_parts[0])))\n",
    "\n",
    "# print(root_dir)\n",
    "print(f\"Total size of filesystem: {root_dir.size}\")\n",
    "\n",
    "# Find total size of all directories with max size 100000\n",
    "def get_size_with_max(dir: DeviceDirectory, total: int, max_size: int) -> int:\n",
    "    if dir.size <= max_size:\n",
    "        total += dir.size\n",
    "    for child in dir.children.values():\n",
    "        total = get_size_with_max(child, total, max_size)\n",
    "    return total\n",
    "\n",
    "MAX_SIZE = 100000\n",
    "total_size_with_max = get_size_with_max(root_dir, 0, MAX_SIZE)\n",
    "print(f\"Total recursive file size (with max={MAX_SIZE}): {total_size_with_max}\")"
   ]
  },
  {
   "cell_type": "markdown",
   "metadata": {},
   "source": [
    "### Day 7, Part 2"
   ]
  },
  {
   "cell_type": "code",
   "execution_count": 43,
   "metadata": {},
   "outputs": [
    {
     "name": "stdout",
     "output_type": "stream",
     "text": [
      "Free space: 26162217\n",
      "Space needed: 3837783\n",
      "Recommend deleting directory `/cmvqf/gccnrw/wvq/` with size: 4183246\n"
     ]
    }
   ],
   "source": [
    "TOTAL_SPACE = 70000000\n",
    "UNUSED_SPACE_NEEDED = 30000000\n",
    "\n",
    "# Find smallest directory to delete\n",
    "def find_directory_to_delete(cur_dir: DeviceDirectory, del_dir: DeviceDirectory, space_needed: int):\n",
    "    if cur_dir.size < del_dir.size and cur_dir.size >= space_needed:\n",
    "        del_dir = cur_dir\n",
    "    for child in cur_dir.children.values():\n",
    "        del_dir = find_directory_to_delete(child, del_dir, space_needed)\n",
    "    return del_dir\n",
    "\n",
    "free_space = TOTAL_SPACE - root_dir.size\n",
    "print(f\"Free space: {free_space}\")\n",
    "\n",
    "space_needed = UNUSED_SPACE_NEEDED - free_space\n",
    "print(f\"Space needed: {space_needed}\")\n",
    "\n",
    "dir_to_delete = find_directory_to_delete(root_dir, root_dir, space_needed)\n",
    "print(f\"Recommend deleting directory `{dir_to_delete.pwd}` with size: {dir_to_delete.size}\")\n"
   ]
  }
 ],
 "metadata": {
  "kernelspec": {
   "display_name": "Python 3.10.8 ('.venv': venv)",
   "language": "python",
   "name": "python3"
  },
  "language_info": {
   "codemirror_mode": {
    "name": "ipython",
    "version": 3
   },
   "file_extension": ".py",
   "mimetype": "text/x-python",
   "name": "python",
   "nbconvert_exporter": "python",
   "pygments_lexer": "ipython3",
   "version": "3.10.8"
  },
  "orig_nbformat": 4,
  "vscode": {
   "interpreter": {
    "hash": "39fe521330e4437617b68159e1f8b7c16e99f832da8fbed7e2e885f86f5313d2"
   }
  }
 },
 "nbformat": 4,
 "nbformat_minor": 2
}
