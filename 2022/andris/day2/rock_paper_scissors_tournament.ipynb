{
 "cells": [
  {
   "cell_type": "markdown",
   "metadata": {},
   "source": [
    "### Day 2, Part 1"
   ]
  },
  {
   "cell_type": "code",
   "execution_count": 15,
   "metadata": {},
   "outputs": [
    {
     "name": "stdout",
     "output_type": "stream",
     "text": [
      "Player score: 12156\n"
     ]
    }
   ],
   "source": [
    "OPPONENT_DECODER = {\"A\": \"Rock\", \"B\": \"Paper\", \"C\": \"Scissors\"}\n",
    "PLAYER_DECODER = {\"X\": \"Rock\", \"Y\": \"Paper\", \"Z\": \"Scissors\"}\n",
    "\n",
    "STRATEGY_FILE = \"day2_input1.txt\"\n",
    "\n",
    "# Parse strategy guide\n",
    "rps_matches = []\n",
    "with open(STRATEGY_FILE, \"r\") as f:\n",
    "    next_line = f.readline()\n",
    "    while len(next_line) > 0:\n",
    "        next_line_parts = next_line.split()\n",
    "        rps_matches.append((OPPONENT_DECODER[next_line_parts[0]], PLAYER_DECODER[next_line_parts[1]]))\n",
    "        next_line = f.readline()\n",
    "\n",
    "# Score matches\n",
    "def get_rps_match_score(opponent: str, player: str) -> int:\n",
    "    \"\"\"Given opponent and player actions, returns match score.\"\"\"\n",
    "    if player == opponent:\n",
    "        return 3 # draw\n",
    "    if (player == \"Rock\" and opponent == \"Scissors\") or (player == \"Scissors\" and opponent == \"Paper\") or (player == \"Paper\" and opponent == \"Rock\"):\n",
    "        return 6 # win\n",
    "    return 0 # lose\n",
    "\n",
    "def get_rps_player_score(player: str) -> int:\n",
    "    \"\"\"Given player action, returns player score.\"\"\"\n",
    "    if player == \"Rock\":\n",
    "        return 1\n",
    "    if player == \"Paper\":\n",
    "        return 2\n",
    "    if player == \"Scissors\":\n",
    "        return 3\n",
    "\n",
    "rps_match_scores = [get_rps_match_score(rps_match[0], rps_match[1]) for rps_match in rps_matches]\n",
    "rps_player_scores = [get_rps_player_score(rps_match[1]) for rps_match in rps_matches]\n",
    "\n",
    "# Compute total player score\n",
    "total_player_score = sum(rps_match_scores) + sum(rps_player_scores)\n",
    "print(f\"Player score: {total_player_score}\")"
   ]
  },
  {
   "cell_type": "markdown",
   "metadata": {},
   "source": [
    "### Day 2, Part 2"
   ]
  },
  {
   "cell_type": "code",
   "execution_count": 16,
   "metadata": {},
   "outputs": [
    {
     "name": "stdout",
     "output_type": "stream",
     "text": [
      "Revised player score: 10835\n"
     ]
    }
   ],
   "source": [
    "MATCH_OUTCOME_DECODER = {\"X\": \"Lose\", \"Y\": \"Draw\", \"Z\": \"Win\"}\n",
    "OUTCOME_MAP = {\n",
    "    \"Win\": {\n",
    "        \"Rock\": \"Paper\",\n",
    "        \"Paper\": \"Scissors\",\n",
    "        \"Scissors\": \"Rock\"\n",
    "    },\n",
    "    \"Draw\": {\n",
    "        \"Rock\": \"Rock\",\n",
    "        \"Paper\": \"Paper\",\n",
    "        \"Scissors\": \"Scissors\"\n",
    "    },\n",
    "    \"Lose\": {\n",
    "        \"Rock\": \"Scissors\",\n",
    "        \"Paper\": \"Rock\",\n",
    "        \"Scissors\": \"Paper\"\n",
    "    },\n",
    "}\n",
    "\n",
    "# Determine player actions to induce strategy guide outcomes\n",
    "def get_player_action_for_outcome(opponent: str, outcome: str) -> str:\n",
    "    \"\"\"Given opponent's action and desired outcome, returns necessary player action.\"\"\"\n",
    "    return OUTCOME_MAP[outcome][opponent]\n",
    "        \n",
    "opponent_actions = []\n",
    "match_outcomes = []\n",
    "player_actions = []\n",
    "with open(STRATEGY_FILE, \"r\") as f:\n",
    "    next_line = f.readline()\n",
    "    while len(next_line) > 0:\n",
    "        next_line_parts = next_line.split()\n",
    "        opponent_actions.append(OPPONENT_DECODER[next_line_parts[0]])\n",
    "        match_outcomes.append(MATCH_OUTCOME_DECODER[next_line_parts[1]])\n",
    "        player_actions.append(get_player_action_for_outcome(opponent_actions[-1], match_outcomes[-1]))\n",
    "        next_line = f.readline()\n",
    "\n",
    "revised_rps_match_scores = [get_rps_match_score(opponent_actions[idx], player_actions[idx]) for idx in range(len(match_outcomes))]\n",
    "revised_rps_player_scores = [get_rps_player_score(player_actions[idx]) for idx in range(len(match_outcomes))]\n",
    "\n",
    "# Compute total player score\n",
    "revised_total_player_score = sum(revised_rps_match_scores) + sum(revised_rps_player_scores)\n",
    "print(f\"Revised player score: {revised_total_player_score}\")"
   ]
  }
 ],
 "metadata": {
  "kernelspec": {
   "display_name": "Python 3.10.8 ('.venv': venv)",
   "language": "python",
   "name": "python3"
  },
  "language_info": {
   "codemirror_mode": {
    "name": "ipython",
    "version": 3
   },
   "file_extension": ".py",
   "mimetype": "text/x-python",
   "name": "python",
   "nbconvert_exporter": "python",
   "pygments_lexer": "ipython3",
   "version": "3.10.8"
  },
  "orig_nbformat": 4,
  "vscode": {
   "interpreter": {
    "hash": "39fe521330e4437617b68159e1f8b7c16e99f832da8fbed7e2e885f86f5313d2"
   }
  }
 },
 "nbformat": 4,
 "nbformat_minor": 2
}
