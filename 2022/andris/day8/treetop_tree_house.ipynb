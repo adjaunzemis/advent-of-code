{
 "cells": [
  {
   "cell_type": "markdown",
   "metadata": {},
   "source": [
    "### Day 8, Part 1"
   ]
  },
  {
   "cell_type": "code",
   "execution_count": 26,
   "metadata": {},
   "outputs": [
    {
     "name": "stdout",
     "output_type": "stream",
     "text": [
      "Trees visible: 1818\n"
     ]
    }
   ],
   "source": [
    "import numpy as np\n",
    "\n",
    "# TREE_HEIGHT_FILE = \"day8_example.txt\"\n",
    "TREE_HEIGHT_FILE = \"day8_input1.txt\"\n",
    "  \n",
    "with open(TREE_HEIGHT_FILE, \"r\") as f:\n",
    "    tree_heights = np.array([[int(x) for x in line.strip()] for line in f.readlines()])\n",
    "\n",
    "trees_visible = 2 * tree_heights.shape[0] + 2 * tree_heights.shape[1] - 4\n",
    "for row in range(1, tree_heights.shape[0] - 1):\n",
    "    for col in range(1, tree_heights.shape[1] - 1):\n",
    "        is_visible_top = max(tree_heights[:row,col]) < tree_heights[row,col]\n",
    "        is_visible_bottom = max(tree_heights[row+1:,col]) < tree_heights[row,col]\n",
    "        is_visible_left = max(tree_heights[row,:col]) < tree_heights[row,col]\n",
    "        is_visible_right = max(tree_heights[row,col+1:]) < tree_heights[row,col]\n",
    "        if is_visible_top or is_visible_bottom or is_visible_left or is_visible_right:\n",
    "            trees_visible += 1\n",
    "print(f\"Trees visible: {trees_visible}\")"
   ]
  },
  {
   "cell_type": "markdown",
   "metadata": {},
   "source": [
    "### Day 8, Part 2"
   ]
  },
  {
   "cell_type": "code",
   "execution_count": 27,
   "metadata": {},
   "outputs": [
    {
     "name": "stdout",
     "output_type": "stream",
     "text": [
      "Max scenic score: 368368.0\n"
     ]
    }
   ],
   "source": [
    "scenic_scores = np.zeros(tree_heights.shape)\n",
    "\n",
    "for row in range(tree_heights.shape[0]):\n",
    "    for col in range(tree_heights.shape[1]):\n",
    "        left_score = 0\n",
    "        for left in reversed(range(col)):\n",
    "            left_score += 1\n",
    "            if tree_heights[row,left] >= tree_heights[row,col]:\n",
    "                break\n",
    "\n",
    "        right_score = 0\n",
    "        for right in range(col + 1, tree_heights.shape[1]):\n",
    "            right_score += 1\n",
    "            if tree_heights[row,right] >= tree_heights[row,col]:\n",
    "                break\n",
    "\n",
    "        top_score = 0\n",
    "        for top in reversed(range(row)):\n",
    "            top_score += 1\n",
    "            if tree_heights[top,col] >= tree_heights[row,col]:\n",
    "                break\n",
    "\n",
    "        bottom_score = 0\n",
    "        for bottom in range(row + 1, tree_heights.shape[0]):\n",
    "            bottom_score += 1\n",
    "            if tree_heights[bottom,col] >= tree_heights[row,col]:\n",
    "                break\n",
    "        scenic_scores[row,col] = left_score * right_score * top_score * bottom_score\n",
    "\n",
    "max_scenic_score = int(np.max(np.max(scenic_scores)))\n",
    "print(f\"Max scenic score: {max_scenic_score}\")"
   ]
  }
 ],
 "metadata": {
  "kernelspec": {
   "display_name": "Python 3.10.8 ('.venv': venv)",
   "language": "python",
   "name": "python3"
  },
  "language_info": {
   "codemirror_mode": {
    "name": "ipython",
    "version": 3
   },
   "file_extension": ".py",
   "mimetype": "text/x-python",
   "name": "python",
   "nbconvert_exporter": "python",
   "pygments_lexer": "ipython3",
   "version": "3.10.8"
  },
  "orig_nbformat": 4,
  "vscode": {
   "interpreter": {
    "hash": "7759c4f07c777038d1cca4df27b4e3676cf153f60ec723e99797dd9d63e75207"
   }
  }
 },
 "nbformat": 4,
 "nbformat_minor": 2
}
